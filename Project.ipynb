{
 "cells": [
  {
   "metadata": {},
   "cell_type": "markdown",
   "source": [
    "# TASK1 . Data Quality\n",
    "\n",
    "#### a. Example of Poor Quality Structured Data\n",
    "We consider a securities trading dataset where:\n",
    "- *Timestamp* field mixes ISO 8601 format (`2023-08-15T09:30:00Z`) and local time (`Aug 15, 2023 9:30 AM EST`)\n",
    "- *Asset identifiers* inconsistently use tickers (`AAPL`), ISINs (`US0378331005`), and internal codes (`EQ123`)\n",
    "- *Transaction volumes* contain negative values\n",
    "\n",
    "#### b. Recognizing Poor Quality in Structured Data\n",
    "We identify three critical failures of data quality principles:\n",
    "1. **Lack of Validity**: Negative share volumes violate domain rules\n",
    "2. **Inconsistent Formatting**: Timestamp heterogeneity breaches the consistency requirement for time-series analysis.\n",
    "3. **Ambiguous Identifier Schema**: Mixed asset identification methods compromise uniqueness and traceability, preventing accurate instrument mapping.\n",
    "\n",
    "#### c. Example of Poor Quality Unstructured Data\n",
    "Through the course about Social Media Data , we could observe financial social media data exhibiting:\n",
    "- Tweets truncated mid-sentence due to API limitations\n",
    "- Duplicate or reposted posts from bot accounts (identical content posted or reposted  ≥5 times/minute)\n",
    "- Irrelevant content (e.g., meme images without financial context in a market discussion corpus)\n",
    "\n",
    "#### d. Assessing Poor Quality in Unstructured Data\n",
    "We would evaluate failures through these lenses:\n",
    "1. **Incompleteness**: Truncated tweets lose critical sentiment signals, violating the *comprehensiveness* requirement for NLP modeling.\n",
    "2. **Non-Uniqueness**: Bot-generated duplicates artificially inflate term frequencies, distorting *representational accuracy* of market sentiment.\n",
    "3. **Contextual Irrelevance**: Non-financial content introduces noise that breaches *fitness-for-purpose* in trading signal extraction.\n",
    "4. **Unverifiable Provenance**: Absence of user verification metadata undermines *auditability*, a core quality attribute for regulatory use cases.\n"
   ],
   "id": "2e682c46dd155e97"
  },
  {
   "metadata": {},
   "cell_type": "markdown",
   "source": [
    "# Task 2\n",
    "We retrieved U.S. Treasury yield data from the Federal Reserve Economic Data (FRED) platform using the fredapi.\n",
    "Specifically, we collected yield curves from January 2024 to June 2025, a recent 18-month period that:\n",
    "\n",
    "* Covers a wide range of market conditions, including inflation and rate decisions.\n",
    "\n",
    "* Provides sufficient data points for robust model fitting and comparison.\n",
    "\n",
    "* Matches the project's requirement of including short- to long-term maturities (from 1 month to 30 years).\n",
    "\n",
    "The dataset includes maturities: 1M, 3M, 6M, 1Y, 2Y, 3Y, 5Y, 7Y, 10Y, 20Y, and 30Y.\n",
    "Missing values (e.g., holidays) were left intact to preserve data integrity and may be dropped during fitting.\n",
    "\n"
   ],
   "id": "ab0ce8d85f706840"
  },
  {
   "metadata": {},
   "cell_type": "code",
   "outputs": [],
   "execution_count": null,
   "source": "",
   "id": "f4e4e3f20086b5eb"
  },
  {
   "metadata": {},
   "cell_type": "code",
   "outputs": [],
   "execution_count": null,
   "source": "",
   "id": "ca80cb680d7fea6d"
  }
 ],
 "metadata": {
  "kernelspec": {
   "display_name": "Python 3",
   "language": "python",
   "name": "python3"
  },
  "language_info": {
   "codemirror_mode": {
    "name": "ipython",
    "version": 2
   },
   "file_extension": ".py",
   "mimetype": "text/x-python",
   "name": "python",
   "nbconvert_exporter": "python",
   "pygments_lexer": "ipython2",
   "version": "2.7.6"
  }
 },
 "nbformat": 4,
 "nbformat_minor": 5
}
